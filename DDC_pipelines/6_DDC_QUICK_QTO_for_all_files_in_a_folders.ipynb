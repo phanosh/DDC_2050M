{
 "cells": [
  {
   "cell_type": "markdown",
   "metadata": {},
   "source": [
    "                               #######             \n",
    "                              #                    \n",
    "        ############ -#####+.##     ######         |\tDataDrivenConstruction.io\n",
    "        ##+########## .-##+ #-   .+########        |\t\n",
    "        ####     ####.     ..    #      ###        |\tDive into the future of flexibility in processing data \n",
    "        ####     .#+#.     #    .# .               |\twithout using BIM tools!\n",
    "        ####     -#+#.    #.     .#.               |\t\n",
    "        ####      #+#.   ##-                       |\t\n",
    "        ####     ####        #.  #     -####       |\t\n",
    "        ############  .###+ #. ############        |\n",
    "        #########.   +#### #+.   ########          |\tIf you have any questions, concerns or special requests,\n",
    "                           #+                      |\tplease contact us at info@datadrivenconstruction.io\t\n",
    "                          #                        \n",
    "                         #  "
   ]
  },
  {
   "cell_type": "code",
   "execution_count": 1,
   "metadata": {
    "id": "ZBp-fvwm0ans"
   },
   "outputs": [],
   "source": [
    "import os\n",
    "import pandas as pd\n",
    "import re\n",
    "import numpy as np\n",
    "\n",
    "# Determining the path where the files are located and creating a new folder\n",
    "path = 'C:\\ProjectRevitIFC'\n",
    "try:\n",
    "  os.mkdir(path + '\\quick_rough_estimate')\n",
    "except:\n",
    "  pass"
   ]
  },
  {
   "cell_type": "code",
   "execution_count": null,
   "metadata": {
    "id": "rtUmsK9Cyqh2"
   },
   "outputs": [],
   "source": [
    "# Properties for which we want to collect data on the amount of volume\n",
    "propstr = ['Area', 'Volume', 'Width', 'Length', 'Perimeter', 'öööasdöööfake']\n",
    "\n",
    "# The type of property by which the grouping will be carried out\n",
    "search_parameter = 'Type Name'\n",
    "\n",
    "# Main function for grouping data and saving a file\n",
    "def crtable(filename):\n",
    "    df = pd.read_excel(path + '/' + filename)\n",
    "    \n",
    "    #  Fetching only numbers from string values of volumetric parameters\n",
    "    propindf = []\n",
    "    for el in propstr:\n",
    "      if el in df.columns:\n",
    "        propindf.append(el)\n",
    "    def find_number(text):\n",
    "      num = re.findall(r'[0-9]+', text)\n",
    "      return \".\".join(num)\n",
    "    for el in propindf:\n",
    "      df[el] = df[el].astype(str)\n",
    "      df[el] = df[el].apply(lambda x: find_number(x))\n",
    "      df[el] = pd.to_numeric(df[el], errors='coerce')\n",
    "      df[el] = df[el].replace(np.nan, 0)\n",
    "      df[el] = df[el].replace('None', 0)\n",
    "      df[el] = df[el].fillna(0)\n",
    "    try:\n",
    "        df[el] = df[el].astype(float)\n",
    "    except:\n",
    "        pass\n",
    "\n",
    "    # Summation of all data that are grouped by search_parameter located in the propindf columns\n",
    "    df1=pd.pivot_table(df, index=[search_parameter],values=propindf,aggfunc=np.sum)\n",
    "    df1 = df1.add_prefix('Sum of ')\n",
    "\n",
    "    # Determination of the number of elements in groups\n",
    "    df2= df.groupby([search_parameter])[propindf[0]].agg(['count'])\n",
    "    dfallpar = pd.DataFrame()  \n",
    "    df['Unnamed: 0'] = df['Unnamed: 0'].astype(str)\n",
    "    comma = lambda x: ', '.join(x.unique())\n",
    "    df3 = df.groupby([search_parameter]) .agg({'Unnamed: 0': comma})\n",
    "    \n",
    "    # Collecting data into one dataframe\n",
    "    dfallpar = pd.concat([df2, df1, df3], axis=1)\n",
    "    dfallpar.rename(columns=({ 'Unnamed: 0': 'Id´s', 'count': 'Amount'}), inplace=True,)\n",
    "\n",
    "    # Saving data to file\n",
    "    dfallpar.to_excel(path + '/quick_rough_estimate/' + 'QQTO_' + filename+'.xlsx',  sheet_name='Quick QTO')\n",
    "\n",
    "for filename in os.listdir(path):\n",
    "    if filename.endswith(\"csv\"): \n",
    "        crtable(filename)    \n",
    "        \n"
   ]
  },
  {
   "cell_type": "code",
   "execution_count": null,
   "metadata": {
    "id": "RB6dg_EyHo2A"
   },
   "outputs": [],
   "source": []
  }
 ],
 "metadata": {
  "accelerator": "GPU",
  "colab": {
   "collapsed_sections": [],
   "machine_shape": "hm",
   "name": "Quick QTO for all files in a folder.ipynb",
   "provenance": []
  },
  "kernelspec": {
   "display_name": "Python 3 (ipykernel)",
   "language": "python",
   "name": "python3"
  },
  "language_info": {
   "codemirror_mode": {
    "name": "ipython",
    "version": 3
   },
   "file_extension": ".py",
   "mimetype": "text/x-python",
   "name": "python",
   "nbconvert_exporter": "python",
   "pygments_lexer": "ipython3",
   "version": "3.11.4"
  }
 },
 "nbformat": 4,
 "nbformat_minor": 1
}
