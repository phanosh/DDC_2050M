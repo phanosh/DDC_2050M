{
 "cells": [
  {
   "cell_type": "code",
   "execution_count": null,
   "id": "06f55bde",
   "metadata": {},
   "outputs": [],
   "source": [
    "                               #######             \n",
    "                              #                    \n",
    "        ############ -#####+.##     ######         |\tDataDrivenConstruction.io\n",
    "        ##+########## .-##+ #-   .+########        |\t\n",
    "        ####     ####.     ..    #      ###        |\tDive into the future of flexibility in processing data \n",
    "        ####     .#+#.     #    .# .               |    without using BIM tools!\n",
    "        ####     -#+#.    #.     .#.               |\t\n",
    "        ####      #+#.   ##-                       |\t\n",
    "        ####     ####        #.  #     -####       |\t\n",
    "        ############  .###+ #. ############        |\n",
    "        #########.   +#### #+.   ########          |\tIf you have any questions, concerns or special requests,\n",
    "                           #+                      |\tplease contact us at info@datadrivenconstruction.io\t\n",
    "                          #                        \n",
    "                         #  \n",
    "\n",
    "#------------------------------------Input data-----------------------------------\n",
    "\n",
    "# Path address to the folder where RvtExporter.exe|IfcExporter.exe converter is located\n",
    "path_conv = r'C:\\DDC_2023\\\\'\n",
    "# Path address of the folder where Revit|IFC files are located\n",
    "path = r'C:\\IFCprojects\\\\'\n",
    "\n",
    "#-----------------------------------------------------------------------------------------\n",
    "\n",
    "import os\n",
    "import subprocess\n",
    "import time\n",
    "\n",
    "def convert_and_wait(path_conv, exporter_name, file_path, extension):\n",
    "    subprocess.Popen([os.path.join(path_conv, exporter_name), file_path], cwd=path_conv)\n",
    "    output_file = os.path.join(path, f\"{os.path.splitext(file)[0]}_{extension}.xlsx\")\n",
    "    while not os.path.exists(output_file):\n",
    "        time.sleep(0.5)\n",
    "    print(f\"Conversion Done for Project {os.path.splitext(file)[0]}\")  \n",
    "    \n",
    "# Ensure output directory exists\n",
    "os.makedirs(path, exist_ok=True)\n",
    "# Conversion process from RVT and IFC\n",
    "for file in os.listdir(path):\n",
    "    full_path = os.path.join(path, file)\n",
    "    if file.endswith('.ifc'):\n",
    "        convert_and_wait(path_conv, 'IfcExporter.exe', full_path, 'ifc')\n",
    "    elif file.endswith('.rvt'):\n",
    "        convert_and_wait(path_conv, 'RvtExporter.exe', full_path, 'rvt')\n",
    "        "
   ]
  },
  {
   "cell_type": "code",
   "execution_count": null,
   "id": "e5459601",
   "metadata": {},
   "outputs": [],
   "source": []
  }
 ],
 "metadata": {
  "kernelspec": {
   "display_name": "Python 3 (ipykernel)",
   "language": "python",
   "name": "python3"
  },
  "language_info": {
   "codemirror_mode": {
    "name": "ipython",
    "version": 3
   },
   "file_extension": ".py",
   "mimetype": "text/x-python",
   "name": "python",
   "nbconvert_exporter": "python",
   "pygments_lexer": "ipython3",
   "version": "3.11.4"
  }
 },
 "nbformat": 4,
 "nbformat_minor": 5
}
